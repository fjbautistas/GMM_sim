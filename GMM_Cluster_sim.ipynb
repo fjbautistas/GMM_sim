{
 "cells": [
  {
   "cell_type": "markdown",
   "metadata": {},
   "source": [
    "# Classification for the centar of mass $(r_\\text{cm})$ of exoplanetary systems through GMM \n",
    "\n",
    "We use Gaussian Mixture Model to clasify the center of mass of exoplanetary systems, employing the sinthetic data  "
   ]
  },
  {
   "cell_type": "code",
   "execution_count": 1,
   "metadata": {},
   "outputs": [
    {
     "data": {
      "text/html": [
       "\n",
       "<style>\n",
       ".output_png {\n",
       "    display: table-cell;\n",
       "    text-align: center;\n",
       "    vertical-align: middle;\n",
       "}\n",
       "</style>\n"
      ],
      "text/plain": [
       "<IPython.core.display.HTML object>"
      ]
     },
     "execution_count": 1,
     "metadata": {},
     "output_type": "execute_result"
    }
   ],
   "source": [
    "from IPython.core.display import HTML\n",
    "HTML(\"\"\"\n",
    "<style>\n",
    ".output_png {\n",
    "    display: table-cell;\n",
    "    text-align: center;\n",
    "    vertical-align: middle;\n",
    "}\n",
    "</style>\n",
    "\"\"\")"
   ]
  },
  {
   "cell_type": "code",
   "execution_count": 2,
   "metadata": {},
   "outputs": [],
   "source": [
    "import pandas as pd; \n",
    "import numpy as np\n",
    "from scipy.stats import norm, truncnorm\n",
    "import random\n",
    "from sklearn.mixture import GaussianMixture\n",
    "import matplotlib.pyplot as plt \n",
    "import seaborn as sb\n",
    "from matplotlib import rc, cm, rcParams\n",
    "\n",
    "plt.style.use('./data/img.mplstyle')\n",
    "\n",
    "import matplotlib as mpl\n",
    "mpl.rcParams.update(mpl.rcParamsDefault)\n",
    "#mpl.rcParams['text.usetex'] = True\n",
    "#plt.rcParams['text.latex.preamble'] = r\"\\usepackage{bm} \\usepackage{amsmath}\"\n",
    "%matplotlib inline"
   ]
  },
  {
   "cell_type": "markdown",
   "metadata": {},
   "source": [
    "simulated data:"
   ]
  },
  {
   "cell_type": "code",
   "execution_count": 3,
   "metadata": {},
   "outputs": [],
   "source": [
    "dn=pd.read_csv('data/proc_no_pert.csv',index_col=None)#, usecols = [\"ms\",\"md\",\"metal\",\"taugas\",\"com\",\n",
    "dl=pd.read_csv('data/proc_lo_pert.csv',index_col=None)#, usecols = [\"ms\",\"md\",\"metal\",\"taugas\",\"com\",\n",
    "dh=pd.read_csv('data/proc_hi_pert.csv',index_col=None)#, usecols = [\"ms\",\"md\",\"metal\",\"taugas\",\"com\","
   ]
  },
  {
   "cell_type": "code",
   "execution_count": 4,
   "metadata": {},
   "outputs": [
    {
     "data": {
      "text/html": [
       "<div>\n",
       "<style scoped>\n",
       "    .dataframe tbody tr th:only-of-type {\n",
       "        vertical-align: middle;\n",
       "    }\n",
       "\n",
       "    .dataframe tbody tr th {\n",
       "        vertical-align: top;\n",
       "    }\n",
       "\n",
       "    .dataframe thead th {\n",
       "        text-align: right;\n",
       "    }\n",
       "</style>\n",
       "<table border=\"1\" class=\"dataframe\">\n",
       "  <thead>\n",
       "    <tr style=\"text-align: right;\">\n",
       "      <th></th>\n",
       "      <th>Unnamed: 0</th>\n",
       "      <th>ident</th>\n",
       "      <th>com</th>\n",
       "      <th>nplanets</th>\n",
       "      <th>massbudget</th>\n",
       "      <th>massefficiency</th>\n",
       "      <th>sigmag0</th>\n",
       "      <th>md</th>\n",
       "      <th>rc</th>\n",
       "      <th>ms</th>\n",
       "      <th>metal</th>\n",
       "      <th>taugas</th>\n",
       "      <th>qest</th>\n",
       "      <th>ngi</th>\n",
       "      <th>mtr</th>\n",
       "      <th>apert</th>\n",
       "    </tr>\n",
       "  </thead>\n",
       "  <tbody>\n",
       "    <tr>\n",
       "      <th>0</th>\n",
       "      <td>0</td>\n",
       "      <td>3.0</td>\n",
       "      <td>0.528895</td>\n",
       "      <td>12.0</td>\n",
       "      <td>5818.115137</td>\n",
       "      <td>0.311685</td>\n",
       "      <td>90.793337</td>\n",
       "      <td>0.056</td>\n",
       "      <td>29.539343</td>\n",
       "      <td>0.880114</td>\n",
       "      <td>0.328146</td>\n",
       "      <td>1.644711e+06</td>\n",
       "      <td>8.421395</td>\n",
       "      <td>3.0</td>\n",
       "      <td>9.132650</td>\n",
       "      <td>0.3</td>\n",
       "    </tr>\n",
       "    <tr>\n",
       "      <th>1</th>\n",
       "      <td>1</td>\n",
       "      <td>5.0</td>\n",
       "      <td>2.406300</td>\n",
       "      <td>13.0</td>\n",
       "      <td>31.567339</td>\n",
       "      <td>0.000861</td>\n",
       "      <td>102.431593</td>\n",
       "      <td>0.110</td>\n",
       "      <td>38.977428</td>\n",
       "      <td>1.075269</td>\n",
       "      <td>-0.150160</td>\n",
       "      <td>1.014449e+06</td>\n",
       "      <td>5.464831</td>\n",
       "      <td>1.0</td>\n",
       "      <td>17.678581</td>\n",
       "      <td>0.3</td>\n",
       "    </tr>\n",
       "    <tr>\n",
       "      <th>2</th>\n",
       "      <td>2</td>\n",
       "      <td>6.0</td>\n",
       "      <td>1.082299</td>\n",
       "      <td>9.0</td>\n",
       "      <td>5886.747227</td>\n",
       "      <td>0.147169</td>\n",
       "      <td>75.740878</td>\n",
       "      <td>0.120</td>\n",
       "      <td>47.343380</td>\n",
       "      <td>0.861595</td>\n",
       "      <td>0.021273</td>\n",
       "      <td>1.790533e+06</td>\n",
       "      <td>4.412694</td>\n",
       "      <td>1.0</td>\n",
       "      <td>8.262408</td>\n",
       "      <td>0.3</td>\n",
       "    </tr>\n",
       "    <tr>\n",
       "      <th>3</th>\n",
       "      <td>3</td>\n",
       "      <td>8.0</td>\n",
       "      <td>7.503351</td>\n",
       "      <td>9.0</td>\n",
       "      <td>7.884462</td>\n",
       "      <td>0.000158</td>\n",
       "      <td>62.737337</td>\n",
       "      <td>0.150</td>\n",
       "      <td>58.158928</td>\n",
       "      <td>1.076658</td>\n",
       "      <td>-0.282408</td>\n",
       "      <td>6.017040e+06</td>\n",
       "      <td>4.704798</td>\n",
       "      <td>0.0</td>\n",
       "      <td>7.884462</td>\n",
       "      <td>0.3</td>\n",
       "    </tr>\n",
       "    <tr>\n",
       "      <th>4</th>\n",
       "      <td>4</td>\n",
       "      <td>13.0</td>\n",
       "      <td>5.247285</td>\n",
       "      <td>12.0</td>\n",
       "      <td>33.730980</td>\n",
       "      <td>0.000595</td>\n",
       "      <td>178.830700</td>\n",
       "      <td>0.170</td>\n",
       "      <td>36.672222</td>\n",
       "      <td>1.206445</td>\n",
       "      <td>-0.174039</td>\n",
       "      <td>3.956708e+06</td>\n",
       "      <td>3.998513</td>\n",
       "      <td>1.0</td>\n",
       "      <td>8.003117</td>\n",
       "      <td>0.3</td>\n",
       "    </tr>\n",
       "  </tbody>\n",
       "</table>\n",
       "</div>"
      ],
      "text/plain": [
       "   Unnamed: 0  ident       com  nplanets   massbudget  massefficiency  \\\n",
       "0           0    3.0  0.528895      12.0  5818.115137        0.311685   \n",
       "1           1    5.0  2.406300      13.0    31.567339        0.000861   \n",
       "2           2    6.0  1.082299       9.0  5886.747227        0.147169   \n",
       "3           3    8.0  7.503351       9.0     7.884462        0.000158   \n",
       "4           4   13.0  5.247285      12.0    33.730980        0.000595   \n",
       "\n",
       "      sigmag0     md         rc        ms     metal        taugas      qest  \\\n",
       "0   90.793337  0.056  29.539343  0.880114  0.328146  1.644711e+06  8.421395   \n",
       "1  102.431593  0.110  38.977428  1.075269 -0.150160  1.014449e+06  5.464831   \n",
       "2   75.740878  0.120  47.343380  0.861595  0.021273  1.790533e+06  4.412694   \n",
       "3   62.737337  0.150  58.158928  1.076658 -0.282408  6.017040e+06  4.704798   \n",
       "4  178.830700  0.170  36.672222  1.206445 -0.174039  3.956708e+06  3.998513   \n",
       "\n",
       "   ngi        mtr  apert  \n",
       "0  3.0   9.132650    0.3  \n",
       "1  1.0  17.678581    0.3  \n",
       "2  1.0   8.262408    0.3  \n",
       "3  0.0   7.884462    0.3  \n",
       "4  1.0   8.003117    0.3  "
      ]
     },
     "execution_count": 4,
     "metadata": {},
     "output_type": "execute_result"
    }
   ],
   "source": [
    "dh.head()\n",
    "#dh[\"com\"].isna().sum()"
   ]
  },
  {
   "cell_type": "markdown",
   "metadata": {},
   "source": [
    "Center of mass distributions by histograms "
   ]
  },
  {
   "cell_type": "code",
   "execution_count": 5,
   "metadata": {},
   "outputs": [
    {
     "data": {
      "image/png": "[encoded data removed]",
      "text/plain": [
       "<Figure size 1080x288 with 3 Axes>"
      ]
     },
     "metadata": {
      "needs_background": "light"
     },
     "output_type": "display_data"
    }
   ],
   "source": [
    "fig, (ax1, ax2, ax3) = plt.subplots(1, 3, figsize=(15, 4))\n",
    "\n",
    "bins, size = 20, 16\n",
    "\n",
    "ax1.hist(np.log10(dn[\"com\"].values), bins = bins, alpha = .8, \n",
    "         density= True, label=r'CoM-no')\n",
    "ax1.set_xticks(np.arange(int(min(np.log10(dn[\"com\"].values)))-.5, \n",
    "                         int(max(np.log10(dn[\"com\"].values)))+.5, 1.0))\n",
    "ax1.set_xlabel(r\"$\\log_{10}\\left(\\frac{\\mathrm{CoM}}{1\\ [M_\\mathrm{Jup}]}\\right)$\", fontsize=size)\n",
    "ax1.set_ylabel(r\"Counts\", fontsize=size)\n",
    "ax1.legend(handletextpad=.4, labelspacing=.25, loc=0, fontsize=size)\n",
    "ax1.tick_params(axis='both', labelsize=size)\n",
    "\n",
    "\n",
    "ax2.hist(np.log10(dl[\"com\"].values), bins = bins, alpha = .8, \n",
    "         density= True, label=r'CoM-low')\n",
    "ax2.set_xlabel(r\"$\\log_{10}\\left(\\frac{\\mathrm{CoM}}{1\\ [M_\\mathrm{Jup}]}\\right)$\",fontsize=size)\n",
    "ax2.set_xticks(np.arange(int(min(np.log10(dl[\"com\"].values)))-.5, \n",
    "                         int(max(np.log10(dl[\"com\"].values)))+.5, 1.0))\n",
    "ax2.set_ylabel(r\"Counts\", fontsize =size)\n",
    "ax2.legend(handletextpad=.4, labelspacing=.25, loc=0, fontsize=size)\n",
    "ax2.tick_params(axis='both', labelsize=size)\n",
    "\n",
    "\n",
    "ax3.hist(np.log10(dh[\"com\"].values), bins = bins, alpha = .8, \n",
    "         density= True, label=r'CoM-high')\n",
    "ax3.set_xlabel(r\"$\\log_{10}\\left(\\frac{\\mathrm{CoM}}{1\\ [M_\\mathrm{Jup}]}\\right)$\", fontsize=size)\n",
    "ax3.set_xticks(np.arange(int(min(np.log10(dh[\"com\"].values)))-.5, \n",
    "                         int(max(np.log10(dh[\"com\"].values)))+.5, 1.0))\n",
    "ax3.set_ylabel(r\"Counts\", fontsize =size)\n",
    "ax3.legend(handletextpad=.4, labelspacing=.25, loc=0, fontsize=size)\n",
    "ax3.tick_params(axis='both', labelsize=size)"
   ]
  },
  {
   "cell_type": "markdown",
   "metadata": {},
   "source": [
    "Comparing the plots"
   ]
  },
  {
   "cell_type": "code",
   "execution_count": 6,
   "metadata": {},
   "outputs": [
    {
     "data": {
      "text/plain": [
       "<matplotlib.legend.Legend at 0x7fae2cd45b50>"
      ]
     },
     "execution_count": 6,
     "metadata": {},
     "output_type": "execute_result"
    },
    {
     "data": {
      "image/png": "[encoded data removed]",
      "text/plain": [
       "<Figure size 432x288 with 1 Axes>"
      ]
     },
     "metadata": {
      "needs_background": "light"
     },
     "output_type": "display_data"
    }
   ],
   "source": [
    "fig, (ax1) = plt.subplots(1, 1, figsize=(6, 4))\n",
    "bins, size = 15, 13\n",
    "names = [\"no\", \"low\", \"high\"]\n",
    "\n",
    "CoM_log=[np.log10(dn[\"com\"]), np.log10(dl[\"com\"]), np.log10(dh[\"com\"])]\n",
    "\n",
    "for i in (range(len(CoM_log))):\n",
    "    _, _, bars0 = ax1.hist(CoM_log[i], bins=bins, label=r'CoM '+names[i],\n",
    "                           color = \"C\"+str(i), alpha = .3+(i/10), density= True)\n",
    "    for bar0 in bars0:\n",
    "        bar0.set_edgecolor(\"C0\")\n",
    "\n",
    "ax1.set_xlabel(r\"$\\log_{10}\\left(\\frac{m}{1\\ M_\\mathrm{Jup}}\\right)$\", fontsize=size)\n",
    "ax1.set_xticks(np.arange(int(min(CoM_log[0]))-.5, int(max(CoM_log[0]))+.5, 1.0))\n",
    "ax1.set_ylabel(r\"Counts\", fontsize=size)\n",
    "ax1.tick_params(axis='both', labelsize=size)\n",
    "ax1.legend(handletextpad=.4, labelspacing=.25, loc=0, fontsize=size)"
   ]
  },
  {
   "cell_type": "markdown",
   "metadata": {},
   "source": [
    "A class to get the GMM and the ideal number of clusters."
   ]
  },
  {
   "cell_type": "code",
   "execution_count": 7,
   "metadata": {},
   "outputs": [],
   "source": [
    "class clustering(object): #It needs a column of a df with the center of mass\n",
    "    \n",
    "    def __init__(self, CoM, log):  \n",
    "        \n",
    "        if log==True:\n",
    "            self.r_cm = np.log10(CoM.values).reshape(-1,1)\n",
    "            self.name=r'$\\log_{10}\\frac{\\mathrm{CoM}}{1\\ \\mathrm[AU]}$'\n",
    "        else: \n",
    "            self.r_cm= self.com\n",
    "            self.name=r'$\\mathrm{CoM}$ [AU]'\n",
    "            \n",
    "    def GMM(self, n_components):\n",
    "        self.n   = n_components\n",
    "        self.gmm = GaussianMixture(n_components, covariance_type='full', random_state=0)\n",
    "        self.gmm.fit(self.r_cm)\n",
    "        self.cluster_label = self.gmm.predict(self.r_cm)\n",
    "        \n",
    "    def inf_criteria(self, times):\n",
    "        self.bic, self.aic = [], []\n",
    "        for i in range(times):\n",
    "            i += 1\n",
    "            self.GMM(i)\n",
    "            self.bic.append(self.gmm.bic(self.r_cm)); self.aic.append(self.gmm.aic(self.r_cm))\n",
    "        \n",
    "        self.ideal = self.bic.index(min(self.bic))+1\n",
    "        \n",
    "        print('Ideal number of clusters, BIC = '+str(self.bic.index(min(self.bic))+1))\n",
    "        print('Ideal number of clusters, AIC = '+str(self.aic.index(min(self.aic))+1))"
   ]
  },
  {
   "cell_type": "code",
   "execution_count": 8,
   "metadata": {},
   "outputs": [],
   "source": [
    "def plot_criteria(criteria):\n",
    "  \n",
    "    figure, ax = plt.subplots(1, 2,figsize = (10,3.5))\n",
    "    label = ['BIC','AIC']\n",
    "\n",
    "    for i,criterium in enumerate(criteria):\n",
    "        dim  = len(criteria[i])\n",
    "        norm = min(criteria[i])/max(criteria[i])\n",
    "        \n",
    "     \n",
    "        ax[i].plot(range(1, dim+1),criteria[i]/max(criteria[i]), lw = 1.5, zorder=1)#, label=label[i])\n",
    "        ax[i].plot(range(1, dim+1),np.ones(dim)*norm, color = \"C4\", alpha = .8, \n",
    "                   ls = \"--\",label=r\"Ideal clustering = \"+str(criteria[i].index(min(criteria[i]))+1) )\n",
    "\n",
    "        ax[i].scatter(range(1, dim+1), criteria[i]/max(criteria[i]), \n",
    "                     marker = \"h\", s = 20,c=\"C4\",label=label[i]+\" value\", zorder=2)\n",
    "        \n",
    "        ax[i].set_xlabel(r'Number of clusters $k$')\n",
    "        ax[i].set_ylabel(r'Normal value')\n",
    "        \n",
    "        ax[i].legend(loc=0)#,edgecolor='black')\n",
    "        ax[i].set_xlim(0, dim+1)\n",
    "        ax[i].set_xticks(np.arange(0, dim+1, step=2))\n",
    "        #ax[i].tick_params()\n",
    "\n",
    "    plt.subplots_adjust(wspace=0.4)\n",
    "    #plt.savefig(\"figures/BIC-AIC.pdf\",bbox_inches='tight')\n",
    "    #return [bic,aic]"
   ]
  },
  {
   "cell_type": "code",
   "execution_count": 9,
   "metadata": {},
   "outputs": [],
   "source": [
    "def clusters_plot2(data, groups, nbins = 60):\n",
    "    \n",
    "    cluster = clustering(data, True)\n",
    "    cluster.GMM(groups)\n",
    "    \n",
    "    a = cluster.r_cm\n",
    "    x = np.linspace(a.min(),a.max(),1000).reshape(-1,1)\n",
    "    \n",
    "    figure, ax = plt.subplots(1, 1); fig.tight_layout()\n",
    "    ax.set(xlim=(x.min(),x.max()))\n",
    "    rcm = ax.hist(a, bins=nbins, density = True, alpha = .5, label = r'$\\log_{10}\\left(\\frac{r_\\mathrm{cm}}{1\\ \\mathrm{AU}}\\right)$')\n",
    "    \n",
    "    for c in range(cluster.n):\n",
    "        g   = ax.plot(x, norm.pdf(x,cluster.gmm.means_[c], np.sqrt(cluster.gmm.covariances_[c]))/2,\n",
    "                     label = \"Cluster\"+str(c))#/\\\n",
    "                      #norm.pdf(x,cluster.gmm.means_[c], np.sqrt(cluster.gmm.covariances_[c])).max())\n",
    "    \n",
    "    plt.xlabel(r\"$\\log_{10}\\left(\\frac{r_\\mathrm{cm}}{1\\ \\mathrm{[AU]}}\\right)$\")\n",
    "    plt.ylabel(r\"Counts\")\n",
    "    plt.legend()   \n",
    "    \n",
    "    return cluster"
   ]
  },
  {
   "cell_type": "code",
   "execution_count": 10,
   "metadata": {},
   "outputs": [
    {
     "name": "stdout",
     "output_type": "stream",
     "text": [
      "Ideal number of clusters, BIC = 4\n",
      "Ideal number of clusters, AIC = 4\n"
     ]
    }
   ],
   "source": [
    "k = 20\n",
    "clust_no = clustering(dn[\"com\"], True)\n",
    "clust_no.GMM(k)\n",
    "clust_no.inf_criteria(k)"
   ]
  },
  {
   "cell_type": "code",
   "execution_count": 11,
   "metadata": {
    "scrolled": true
   },
   "outputs": [
    {
     "data": {
      "image/png": "[encoded data removed]",
      "text/plain": [
       "<Figure size 720x252 with 2 Axes>"
      ]
     },
     "metadata": {
      "needs_background": "light"
     },
     "output_type": "display_data"
    }
   ],
   "source": [
    "plot_criteria([clust_no.bic,clust_no.aic])"
   ]
  },
  {
   "cell_type": "code",
   "execution_count": 12,
   "metadata": {
    "scrolled": false
   },
   "outputs": [
    {
     "data": {
      "image/png": "[encoded data removed]",
      "text/plain": [
       "<Figure size 432x288 with 1 Axes>"
      ]
     },
     "metadata": {
      "needs_background": "light"
     },
     "output_type": "display_data"
    }
   ],
   "source": [
    "clusters = clusters_plot2(dn[\"com\"],4)"
   ]
  },
  {
   "cell_type": "code",
   "execution_count": 13,
   "metadata": {},
   "outputs": [],
   "source": [
    "clusters.cluster_label\n",
    "dn.insert(3, \"cluster_b\", clusters.cluster_label)"
   ]
  },
  {
   "cell_type": "code",
   "execution_count": 14,
   "metadata": {},
   "outputs": [],
   "source": [
    "#dn"
   ]
  },
  {
   "cell_type": "markdown",
   "metadata": {},
   "source": [
    "## Data from OrbitalElements\n",
    "\n",
    "### Identifying the intial and final cluster for mass\n",
    "#### Identifiying initial cluster\n",
    "\n",
    "Ltet's to identify each cluster for the system that are related in the orbital resulsts with 10e6y for the mass folder. "
   ]
  },
  {
   "cell_type": "code",
   "execution_count": 15,
   "metadata": {},
   "outputs": [],
   "source": [
    "import os\n",
    "path  = \"data/Grupos/Grupo 2 (10e6)/Mass (M_earth)/\"\n",
    "names = os.listdir(path)              # Get the folder name\n",
    "sys_names = [x for x in sorted(names)]# Sorted names of systems \n",
    "systems = [float(names[i][13:]) for i in range(len(names))] # Get the identifier name"
   ]
  },
  {
   "cell_type": "code",
   "execution_count": 16,
   "metadata": {},
   "outputs": [],
   "source": [
    "df = dn.loc[dn[\"ident\"].isin(systems)]\n",
    "#df[[\"ident\",\"com\",\"cluster_b\"]]"
   ]
  },
  {
   "cell_type": "markdown",
   "metadata": {},
   "source": [
    "#### Identifying the final cluster\n",
    "Then, we calculate the com after the orbital evolution for the above systems by using the files _orbitalelements0001.txt_"
   ]
  },
  {
   "cell_type": "code",
   "execution_count": 17,
   "metadata": {},
   "outputs": [],
   "source": [
    "file_name_1 = \"OrbitalElements00001.txt\""
   ]
  },
  {
   "cell_type": "markdown",
   "metadata": {},
   "source": [
    "Now it is time to get the center of mass for each system"
   ]
  },
  {
   "cell_type": "code",
   "execution_count": 18,
   "metadata": {},
   "outputs": [],
   "source": [
    "com_a = []\n",
    "for i in range(len(names)): \n",
    "    sys1 = np.genfromtxt(path+sys_names[i]+\"/\"+file_name_1, delimiter=', ')\n",
    "    com  = ((sys1[:,0]*sys1[:,2]).sum())/(sys1[:,0].sum())\n",
    "    #print(names[i], com)\n",
    "    com_a.append(com)"
   ]
  },
  {
   "cell_type": "code",
   "execution_count": 19,
   "metadata": {},
   "outputs": [],
   "source": [
    "df.insert(3, \"com_a\", com_a)\n",
    "#df[[\"ident\",\"com\",\"com_a\",\"cluster_b\"]]"
   ]
  },
  {
   "cell_type": "markdown",
   "metadata": {},
   "source": [
    "Now is implemented the prediction of the labels for the data samples (the new center of mass `com_a`) using trained model, from the simulations without orbital evolution."
   ]
  },
  {
   "cell_type": "code",
   "execution_count": 20,
   "metadata": {},
   "outputs": [],
   "source": [
    "new_label = clusters.gmm.predict(np.log10(com_a).reshape(-1,1))"
   ]
  },
  {
   "cell_type": "code",
   "execution_count": 21,
   "metadata": {},
   "outputs": [],
   "source": [
    "df.insert(5, \"cluster_a\", new_label)"
   ]
  },
  {
   "cell_type": "code",
   "execution_count": 22,
   "metadata": {},
   "outputs": [
    {
     "data": {
      "text/html": [
       "<div>\n",
       "<style scoped>\n",
       "    .dataframe tbody tr th:only-of-type {\n",
       "        vertical-align: middle;\n",
       "    }\n",
       "\n",
       "    .dataframe tbody tr th {\n",
       "        vertical-align: top;\n",
       "    }\n",
       "\n",
       "    .dataframe thead th {\n",
       "        text-align: right;\n",
       "    }\n",
       "</style>\n",
       "<table border=\"1\" class=\"dataframe\">\n",
       "  <thead>\n",
       "    <tr style=\"text-align: right;\">\n",
       "      <th></th>\n",
       "      <th>ident</th>\n",
       "      <th>com</th>\n",
       "      <th>com_a</th>\n",
       "      <th>cluster_b</th>\n",
       "      <th>cluster_a</th>\n",
       "    </tr>\n",
       "  </thead>\n",
       "  <tbody>\n",
       "    <tr>\n",
       "      <th>78</th>\n",
       "      <td>127.0</td>\n",
       "      <td>15.350869</td>\n",
       "      <td>3.575551</td>\n",
       "      <td>0</td>\n",
       "      <td>2</td>\n",
       "    </tr>\n",
       "    <tr>\n",
       "      <th>86</th>\n",
       "      <td>140.0</td>\n",
       "      <td>7.868601</td>\n",
       "      <td>0.421501</td>\n",
       "      <td>0</td>\n",
       "      <td>1</td>\n",
       "    </tr>\n",
       "    <tr>\n",
       "      <th>95</th>\n",
       "      <td>151.0</td>\n",
       "      <td>6.107801</td>\n",
       "      <td>2.102982</td>\n",
       "      <td>2</td>\n",
       "      <td>2</td>\n",
       "    </tr>\n",
       "    <tr>\n",
       "      <th>100</th>\n",
       "      <td>157.0</td>\n",
       "      <td>8.869166</td>\n",
       "      <td>3.237527</td>\n",
       "      <td>0</td>\n",
       "      <td>2</td>\n",
       "    </tr>\n",
       "    <tr>\n",
       "      <th>104</th>\n",
       "      <td>164.0</td>\n",
       "      <td>4.494541</td>\n",
       "      <td>4.494545</td>\n",
       "      <td>2</td>\n",
       "      <td>2</td>\n",
       "    </tr>\n",
       "    <tr>\n",
       "      <th>108</th>\n",
       "      <td>168.0</td>\n",
       "      <td>0.063782</td>\n",
       "      <td>0.375215</td>\n",
       "      <td>3</td>\n",
       "      <td>1</td>\n",
       "    </tr>\n",
       "    <tr>\n",
       "      <th>110</th>\n",
       "      <td>170.0</td>\n",
       "      <td>3.654630</td>\n",
       "      <td>3.654627</td>\n",
       "      <td>2</td>\n",
       "      <td>2</td>\n",
       "    </tr>\n",
       "    <tr>\n",
       "      <th>125</th>\n",
       "      <td>194.0</td>\n",
       "      <td>0.528636</td>\n",
       "      <td>0.528671</td>\n",
       "      <td>1</td>\n",
       "      <td>1</td>\n",
       "    </tr>\n",
       "    <tr>\n",
       "      <th>126</th>\n",
       "      <td>195.0</td>\n",
       "      <td>8.707481</td>\n",
       "      <td>1.052572</td>\n",
       "      <td>0</td>\n",
       "      <td>1</td>\n",
       "    </tr>\n",
       "    <tr>\n",
       "      <th>131</th>\n",
       "      <td>202.0</td>\n",
       "      <td>4.318303</td>\n",
       "      <td>4.318306</td>\n",
       "      <td>2</td>\n",
       "      <td>2</td>\n",
       "    </tr>\n",
       "    <tr>\n",
       "      <th>146</th>\n",
       "      <td>218.0</td>\n",
       "      <td>3.792601</td>\n",
       "      <td>3.792644</td>\n",
       "      <td>2</td>\n",
       "      <td>2</td>\n",
       "    </tr>\n",
       "    <tr>\n",
       "      <th>147</th>\n",
       "      <td>220.0</td>\n",
       "      <td>4.010175</td>\n",
       "      <td>4.010189</td>\n",
       "      <td>2</td>\n",
       "      <td>2</td>\n",
       "    </tr>\n",
       "    <tr>\n",
       "      <th>151</th>\n",
       "      <td>226.0</td>\n",
       "      <td>3.723680</td>\n",
       "      <td>3.723978</td>\n",
       "      <td>2</td>\n",
       "      <td>2</td>\n",
       "    </tr>\n",
       "    <tr>\n",
       "      <th>154</th>\n",
       "      <td>229.0</td>\n",
       "      <td>3.434510</td>\n",
       "      <td>3.943074</td>\n",
       "      <td>2</td>\n",
       "      <td>2</td>\n",
       "    </tr>\n",
       "    <tr>\n",
       "      <th>170</th>\n",
       "      <td>251.0</td>\n",
       "      <td>4.312215</td>\n",
       "      <td>0.900001</td>\n",
       "      <td>2</td>\n",
       "      <td>1</td>\n",
       "    </tr>\n",
       "    <tr>\n",
       "      <th>177</th>\n",
       "      <td>259.0</td>\n",
       "      <td>8.779735</td>\n",
       "      <td>1.484951</td>\n",
       "      <td>0</td>\n",
       "      <td>1</td>\n",
       "    </tr>\n",
       "    <tr>\n",
       "      <th>191</th>\n",
       "      <td>283.0</td>\n",
       "      <td>0.665533</td>\n",
       "      <td>3.482667</td>\n",
       "      <td>1</td>\n",
       "      <td>2</td>\n",
       "    </tr>\n",
       "    <tr>\n",
       "      <th>199</th>\n",
       "      <td>292.0</td>\n",
       "      <td>11.619379</td>\n",
       "      <td>0.130687</td>\n",
       "      <td>0</td>\n",
       "      <td>3</td>\n",
       "    </tr>\n",
       "    <tr>\n",
       "      <th>218</th>\n",
       "      <td>315.0</td>\n",
       "      <td>3.898517</td>\n",
       "      <td>3.899246</td>\n",
       "      <td>2</td>\n",
       "      <td>2</td>\n",
       "    </tr>\n",
       "    <tr>\n",
       "      <th>233</th>\n",
       "      <td>332.0</td>\n",
       "      <td>3.597878</td>\n",
       "      <td>3.597883</td>\n",
       "      <td>2</td>\n",
       "      <td>2</td>\n",
       "    </tr>\n",
       "    <tr>\n",
       "      <th>234</th>\n",
       "      <td>334.0</td>\n",
       "      <td>3.932543</td>\n",
       "      <td>3.932546</td>\n",
       "      <td>2</td>\n",
       "      <td>2</td>\n",
       "    </tr>\n",
       "    <tr>\n",
       "      <th>241</th>\n",
       "      <td>344.0</td>\n",
       "      <td>10.666733</td>\n",
       "      <td>0.228001</td>\n",
       "      <td>0</td>\n",
       "      <td>3</td>\n",
       "    </tr>\n",
       "  </tbody>\n",
       "</table>\n",
       "</div>"
      ],
      "text/plain": [
       "     ident        com     com_a  cluster_b  cluster_a\n",
       "78   127.0  15.350869  3.575551          0          2\n",
       "86   140.0   7.868601  0.421501          0          1\n",
       "95   151.0   6.107801  2.102982          2          2\n",
       "100  157.0   8.869166  3.237527          0          2\n",
       "104  164.0   4.494541  4.494545          2          2\n",
       "108  168.0   0.063782  0.375215          3          1\n",
       "110  170.0   3.654630  3.654627          2          2\n",
       "125  194.0   0.528636  0.528671          1          1\n",
       "126  195.0   8.707481  1.052572          0          1\n",
       "131  202.0   4.318303  4.318306          2          2\n",
       "146  218.0   3.792601  3.792644          2          2\n",
       "147  220.0   4.010175  4.010189          2          2\n",
       "151  226.0   3.723680  3.723978          2          2\n",
       "154  229.0   3.434510  3.943074          2          2\n",
       "170  251.0   4.312215  0.900001          2          1\n",
       "177  259.0   8.779735  1.484951          0          1\n",
       "191  283.0   0.665533  3.482667          1          2\n",
       "199  292.0  11.619379  0.130687          0          3\n",
       "218  315.0   3.898517  3.899246          2          2\n",
       "233  332.0   3.597878  3.597883          2          2\n",
       "234  334.0   3.932543  3.932546          2          2\n",
       "241  344.0  10.666733  0.228001          0          3"
      ]
     },
     "execution_count": 22,
     "metadata": {},
     "output_type": "execute_result"
    }
   ],
   "source": [
    "df[[\"ident\",\"com\",\"com_a\",\"cluster_b\",\"cluster_a\"]]"
   ]
  },
  {
   "cell_type": "code",
   "execution_count": 23,
   "metadata": {},
   "outputs": [],
   "source": [
    "#clusters = clusters_plot2(dn[\"com\"],4)"
   ]
  },
  {
   "cell_type": "code",
   "execution_count": 24,
   "metadata": {},
   "outputs": [],
   "source": [
    "count = 0\n",
    "for i in range(len(df)):\n",
    "    if df[\"cluster_b\"].values[i] == df[\"cluster_a\"].values[i]:\n",
    "        count += 1"
   ]
  },
  {
   "cell_type": "code",
   "execution_count": 25,
   "metadata": {},
   "outputs": [
    {
     "data": {
      "text/plain": [
       "54.54545454545454"
      ]
     },
     "execution_count": 25,
     "metadata": {},
     "output_type": "execute_result"
    }
   ],
   "source": [
    "(count/len(df))*100"
   ]
  },
  {
   "cell_type": "code",
   "execution_count": null,
   "metadata": {},
   "outputs": [],
   "source": []
  }
 ],
 "metadata": {
  "kernelspec": {
   "display_name": "Python 3",
   "language": "python",
   "name": "python3"
  },
  "language_info": {
   "codemirror_mode": {
    "name": "ipython",
    "version": 3
   },
   "file_extension": ".py",
   "mimetype": "text/x-python",
   "name": "python",
   "nbconvert_exporter": "python",
   "pygments_lexer": "ipython3",
   "version": "3.7.10"
  }
 },
 "nbformat": 4,
 "nbformat_minor": 5
}
