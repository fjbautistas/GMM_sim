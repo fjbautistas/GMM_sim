{
 "cells": [
  {
   "cell_type": "markdown",
   "metadata": {},
   "source": [
    "# Classification for the centar of mass $(r_\\text{cm})$ of exoplanetary systems through GMM \n",
    "\n",
    "We use Gaussian Mixture Model to clasify the center of mass of exoplanetary systems, employing the sinthetic data  "
   ]
  },
  {
   "cell_type": "code",
   "execution_count": 1,
   "metadata": {},
   "outputs": [
    {
     "data": {
      "text/html": [
       "\n",
       "<style>\n",
       ".output_png {\n",
       "    display: table-cell;\n",
       "    text-align: center;\n",
       "    vertical-align: middle;\n",
       "}\n",
       "</style>\n"
      ],
      "text/plain": [
       "<IPython.core.display.HTML object>"
      ]
     },
     "execution_count": 1,
     "metadata": {},
     "output_type": "execute_result"
    }
   ],
   "source": [
    "from IPython.core.display import HTML\n",
    "HTML(\"\"\"\n",
    "<style>\n",
    ".output_png {\n",
    "    display: table-cell;\n",
    "    text-align: center;\n",
    "    vertical-align: middle;\n",
    "}\n",
    "</style>\n",
    "\"\"\")"
   ]
  },
  {
   "cell_type": "code",
   "execution_count": 1,
   "metadata": {},
   "outputs": [],
   "source": [
    "import pandas as pd; \n",
    "import numpy as np\n",
    "from scipy.stats import norm, truncnorm\n",
    "import random\n",
    "from sklearn.mixture import GaussianMixture\n",
    "import matplotlib.pyplot as plt \n",
    "import seaborn as sb\n",
    "from matplotlib import rc, cm, rcParams\n",
    "\n",
    "plt.style.use('./data/img.mplstyle')\n",
    "\n",
    "import matplotlib as mpl\n",
    "mpl.rcParams.update(mpl.rcParamsDefault)\n",
    "#mpl.rcParams['text.usetex'] = True\n",
    "#plt.rcParams['text.latex.preamble'] = r\"\\usepackage{bm} \\usepackage{amsmath}\"\n",
    "%matplotlib inline"
   ]
  },
  {
   "cell_type": "markdown",
   "metadata": {},
   "source": [
    "simulated data:"
   ]
  },
  {
   "cell_type": "code",
   "execution_count": 3,
   "metadata": {},
   "outputs": [],
   "source": [
    "dn=pd.read_csv('data/proc_no_pert.csv',index_col=None)#, usecols = [\"ms\",\"md\",\"metal\",\"taugas\",\"com\",\n",
    "dl=pd.read_csv('data/proc_lo_pert.csv',index_col=None)#, usecols = [\"ms\",\"md\",\"metal\",\"taugas\",\"com\",\n",
    "dh=pd.read_csv('data/proc_hi_pert.csv',index_col=None)#, usecols = [\"ms\",\"md\",\"metal\",\"taugas\",\"com\","
   ]
  },
  {
   "cell_type": "code",
   "execution_count": 4,
   "metadata": {},
   "outputs": [
    {
     "data": {
      "text/html": [
       "<div>\n",
       "<style scoped>\n",
       "    .dataframe tbody tr th:only-of-type {\n",
       "        vertical-align: middle;\n",
       "    }\n",
       "\n",
       "    .dataframe tbody tr th {\n",
       "        vertical-align: top;\n",
       "    }\n",
       "\n",
       "    .dataframe thead th {\n",
       "        text-align: right;\n",
       "    }\n",
       "</style>\n",
       "<table border=\"1\" class=\"dataframe\">\n",
       "  <thead>\n",
       "    <tr style=\"text-align: right;\">\n",
       "      <th></th>\n",
       "      <th>Unnamed: 0</th>\n",
       "      <th>ident</th>\n",
       "      <th>com</th>\n",
       "      <th>nplanets</th>\n",
       "      <th>massbudget</th>\n",
       "      <th>massefficiency</th>\n",
       "      <th>sigmag0</th>\n",
       "      <th>md</th>\n",
       "      <th>rc</th>\n",
       "      <th>ms</th>\n",
       "      <th>metal</th>\n",
       "      <th>taugas</th>\n",
       "      <th>qest</th>\n",
       "      <th>ngi</th>\n",
       "      <th>mtr</th>\n",
       "      <th>apert</th>\n",
       "    </tr>\n",
       "  </thead>\n",
       "  <tbody>\n",
       "    <tr>\n",
       "      <th>0</th>\n",
       "      <td>0</td>\n",
       "      <td>3.0</td>\n",
       "      <td>0.528895</td>\n",
       "      <td>12.0</td>\n",
       "      <td>5818.115137</td>\n",
       "      <td>0.311685</td>\n",
       "      <td>90.793337</td>\n",
       "      <td>0.056</td>\n",
       "      <td>29.539343</td>\n",
       "      <td>0.880114</td>\n",
       "      <td>0.328146</td>\n",
       "      <td>1.644711e+06</td>\n",
       "      <td>8.421395</td>\n",
       "      <td>3.0</td>\n",
       "      <td>9.132650</td>\n",
       "      <td>0.3</td>\n",
       "    </tr>\n",
       "    <tr>\n",
       "      <th>1</th>\n",
       "      <td>1</td>\n",
       "      <td>5.0</td>\n",
       "      <td>2.406300</td>\n",
       "      <td>13.0</td>\n",
       "      <td>31.567339</td>\n",
       "      <td>0.000861</td>\n",
       "      <td>102.431593</td>\n",
       "      <td>0.110</td>\n",
       "      <td>38.977428</td>\n",
       "      <td>1.075269</td>\n",
       "      <td>-0.150160</td>\n",
       "      <td>1.014449e+06</td>\n",
       "      <td>5.464831</td>\n",
       "      <td>1.0</td>\n",
       "      <td>17.678581</td>\n",
       "      <td>0.3</td>\n",
       "    </tr>\n",
       "    <tr>\n",
       "      <th>2</th>\n",
       "      <td>2</td>\n",
       "      <td>6.0</td>\n",
       "      <td>1.082299</td>\n",
       "      <td>9.0</td>\n",
       "      <td>5886.747227</td>\n",
       "      <td>0.147169</td>\n",
       "      <td>75.740878</td>\n",
       "      <td>0.120</td>\n",
       "      <td>47.343380</td>\n",
       "      <td>0.861595</td>\n",
       "      <td>0.021273</td>\n",
       "      <td>1.790533e+06</td>\n",
       "      <td>4.412694</td>\n",
       "      <td>1.0</td>\n",
       "      <td>8.262408</td>\n",
       "      <td>0.3</td>\n",
       "    </tr>\n",
       "    <tr>\n",
       "      <th>3</th>\n",
       "      <td>3</td>\n",
       "      <td>8.0</td>\n",
       "      <td>7.503351</td>\n",
       "      <td>9.0</td>\n",
       "      <td>7.884462</td>\n",
       "      <td>0.000158</td>\n",
       "      <td>62.737337</td>\n",
       "      <td>0.150</td>\n",
       "      <td>58.158928</td>\n",
       "      <td>1.076658</td>\n",
       "      <td>-0.282408</td>\n",
       "      <td>6.017040e+06</td>\n",
       "      <td>4.704798</td>\n",
       "      <td>0.0</td>\n",
       "      <td>7.884462</td>\n",
       "      <td>0.3</td>\n",
       "    </tr>\n",
       "    <tr>\n",
       "      <th>4</th>\n",
       "      <td>4</td>\n",
       "      <td>13.0</td>\n",
       "      <td>5.247285</td>\n",
       "      <td>12.0</td>\n",
       "      <td>33.730980</td>\n",
       "      <td>0.000595</td>\n",
       "      <td>178.830700</td>\n",
       "      <td>0.170</td>\n",
       "      <td>36.672222</td>\n",
       "      <td>1.206445</td>\n",
       "      <td>-0.174039</td>\n",
       "      <td>3.956708e+06</td>\n",
       "      <td>3.998513</td>\n",
       "      <td>1.0</td>\n",
       "      <td>8.003117</td>\n",
       "      <td>0.3</td>\n",
       "    </tr>\n",
       "  </tbody>\n",
       "</table>\n",
       "</div>"
      ],
      "text/plain": [
       "   Unnamed: 0  ident       com  nplanets   massbudget  massefficiency  \\\n",
       "0           0    3.0  0.528895      12.0  5818.115137        0.311685   \n",
       "1           1    5.0  2.406300      13.0    31.567339        0.000861   \n",
       "2           2    6.0  1.082299       9.0  5886.747227        0.147169   \n",
       "3           3    8.0  7.503351       9.0     7.884462        0.000158   \n",
       "4           4   13.0  5.247285      12.0    33.730980        0.000595   \n",
       "\n",
       "      sigmag0     md         rc        ms     metal        taugas      qest  \\\n",
       "0   90.793337  0.056  29.539343  0.880114  0.328146  1.644711e+06  8.421395   \n",
       "1  102.431593  0.110  38.977428  1.075269 -0.150160  1.014449e+06  5.464831   \n",
       "2   75.740878  0.120  47.343380  0.861595  0.021273  1.790533e+06  4.412694   \n",
       "3   62.737337  0.150  58.158928  1.076658 -0.282408  6.017040e+06  4.704798   \n",
       "4  178.830700  0.170  36.672222  1.206445 -0.174039  3.956708e+06  3.998513   \n",
       "\n",
       "   ngi        mtr  apert  \n",
       "0  3.0   9.132650    0.3  \n",
       "1  1.0  17.678581    0.3  \n",
       "2  1.0   8.262408    0.3  \n",
       "3  0.0   7.884462    0.3  \n",
       "4  1.0   8.003117    0.3  "
      ]
     },
     "execution_count": 4,
     "metadata": {},
     "output_type": "execute_result"
    }
   ],
   "source": [
    "dh.head()\n",
    "#dh[\"com\"].isna().sum()"
   ]
  },
  {
   "cell_type": "markdown",
   "metadata": {},
   "source": [
    "Center of mass distributions by histograms "
   ]
  },
  {
   "cell_type": "code",
   "execution_count": 5,
   "metadata": {},
   "outputs": [],
   "source": [
    "fig, (ax1, ax2, ax3) = plt.subplots(1, 3, figsize=(15, 4))\n",
    "\n",
    "bins, size = 20, 16\n",
    "\n",
    "ax1.hist(np.log10(dn[\"com\"].values), bins = bins, alpha = .8, \n",
    "         density= True, label=r'CoM-no')\n",
    "ax1.set_xticks(np.arange(int(min(np.log10(dn[\"com\"].values)))-.5, \n",
    "                         int(max(np.log10(dn[\"com\"].values)))+.5, 1.0))\n",
    "ax1.set_xlabel(r\"$\\log_{10}\\left(\\frac{\\mathrm{CoM}}{1\\ [M_\\mathrm{Jup}]}\\right)$\", fontsize=size)\n",
    "ax1.set_ylabel(r\"Counts\", fontsize=size)\n",
    "ax1.legend(handletextpad=.4, labelspacing=.25, loc=0, fontsize=size)\n",
    "ax1.tick_params(axis='both', labelsize=size)\n",
    "\n",
    "\n",
    "ax2.hist(np.log10(dl[\"com\"].values), bins = bins, alpha = .8, \n",
    "         density= True, label=r'CoM-low')\n",
    "ax2.set_xlabel(r\"$\\log_{10}\\left(\\frac{\\mathrm{CoM}}{1\\ [M_\\mathrm{Jup}]}\\right)$\",fontsize=size)\n",
    "ax2.set_xticks(np.arange(int(min(np.log10(dl[\"com\"].values)))-.5, \n",
    "                         int(max(np.log10(dl[\"com\"].values)))+.5, 1.0))\n",
    "ax2.set_ylabel(r\"Counts\", fontsize =size)\n",
    "ax2.legend(handletextpad=.4, labelspacing=.25, loc=0, fontsize=size)\n",
    "ax2.tick_params(axis='both', labelsize=size)\n",
    "\n",
    "\n",
    "ax3.hist(np.log10(dh[\"com\"].values), bins = bins, alpha = .8, \n",
    "         density= True, label=r'CoM-high')\n",
    "ax3.set_xlabel(r\"$\\log_{10}\\left(\\frac{\\mathrm{CoM}}{1\\ [M_\\mathrm{Jup}]}\\right)$\", fontsize=size)\n",
    "ax3.set_xticks(np.arange(int(min(np.log10(dh[\"com\"].values)))-.5, \n",
    "                         int(max(np.log10(dh[\"com\"].values)))+.5, 1.0))\n",
    "ax3.set_ylabel(r\"Counts\", fontsize =size)\n",
    "ax3.legend(handletextpad=.4, labelspacing=.25, loc=0, fontsize=size)\n",
    "ax3.tick_params(axis='both', labelsize=size)"
   ]
  },
  {
   "cell_type": "markdown",
   "metadata": {},
   "source": [
    "Comparing the plots"
   ]
  },
  {
   "cell_type": "code",
   "execution_count": 6,
   "metadata": {},
   "outputs": [
    {
     "data": {
      "text/plain": [
       "<matplotlib.legend.Legend at 0x7ff0881b1f50>"
      ]
     },
     "execution_count": 6,
     "metadata": {},
     "output_type": "execute_result"
    }
   ],
   "source": [
    "fig, (ax1) = plt.subplots(1, 1, figsize=(6, 4))\n",
    "bins, size = 18, 15\n",
    "names = [\"no\", \"low\", \"high\"]\n",
    "\n",
    "CoM_log=[np.log10(dn[\"com\"]), np.log10(dl[\"com\"]), np.log10(dh[\"com\"])]\n",
    "\n",
    "for i in (range(len(CoM_log))):\n",
    "    _, _, bars0 = ax1.hist(CoM_log[i], bins=bins, label=r'CoM '+names[i],\n",
    "                           color = \"C\"+str(i), alpha = .3+(i/10), density= True)\n",
    "    for bar0 in bars0:\n",
    "        bar0.set_edgecolor(\"C0\")\n",
    "\n",
    "ax1.set_xlabel(r\"$\\log_{10}\\left(\\frac{m}{1\\ M_\\mathrm{Jup}}\\right)$\", fontsize=size)\n",
    "ax1.set_xticks(np.arange(int(min(CoM_log[0]))-.5, int(max(CoM_log[0]))+.5, 1.0))\n",
    "ax1.set_ylabel(r\"Counts\", fontsize=size)\n",
    "ax1.tick_params(axis='both', labelsize=size)\n",
    "ax1.legend(handletextpad=.4, labelspacing=.25, loc=0, fontsize=size)"
   ]
  },
  {
   "cell_type": "markdown",
   "metadata": {},
   "source": [
    "A class to get the GMM and the ideal number of clusters."
   ]
  },
  {
   "cell_type": "code",
   "execution_count": 7,
   "metadata": {},
   "outputs": [],
   "source": [
    "class clustering(object): #It needs a column of a df with the center of mass\n",
    "    \n",
    "    def __init__(self, CoM, log):  \n",
    "        \n",
    "        if log==True:\n",
    "            self.r_cm = np.log10(CoM.values).reshape(-1,1)\n",
    "            self.name=r'$\\log_{10}\\frac{\\mathrm{CoM}}{1\\ \\mathrm[AU]}$'\n",
    "        else: \n",
    "            self.r_cm= self.com\n",
    "            self.name=r'$\\mathrm{CoM}$ [AU]'\n",
    "            \n",
    "    def GMM(self, n_components):\n",
    "        self.n   = n_components\n",
    "        self.gmm = GaussianMixture(n_components, covariance_type='full', random_state=0)\n",
    "        self.gmm.fit(self.r_cm)\n",
    "        self.cluster_label = self.gmm.predict(self.r_cm)\n",
    "        \n",
    "    def inf_criteria(self, times):\n",
    "        self.bic, self.aic = [], []\n",
    "        for i in range(times):\n",
    "            i += 1\n",
    "            self.GMM(i)\n",
    "            self.bic.append(self.gmm.bic(self.r_cm)); self.aic.append(self.gmm.aic(self.r_cm))\n",
    "        \n",
    "        self.ideal = self.bic.index(min(self.bic))+1\n",
    "        \n",
    "        print('Ideal number of clusters, BIC = '+str(self.bic.index(min(self.bic))+1))\n",
    "        print('Ideal number of clusters, AIC = '+str(self.aic.index(min(self.aic))+1))"
   ]
  },
  {
   "cell_type": "code",
   "execution_count": 8,
   "metadata": {},
   "outputs": [],
   "source": [
    "def plot_criteria(criteria):\n",
    "  \n",
    "    figure, ax = plt.subplots(1, 2,figsize = (10,3.5))\n",
    "    label = ['BIC','AIC']\n",
    "\n",
    "    for i,criterium in enumerate(criteria):\n",
    "        dim  = len(criteria[i])\n",
    "        norm = min(criteria[i])/max(criteria[i])\n",
    "        \n",
    "     \n",
    "        ax[i].plot(range(1, dim+1),criteria[i]/max(criteria[i]), lw = 1.5, zorder=1)#, label=label[i])\n",
    "        ax[i].plot(range(1, dim+1),np.ones(dim)*norm, color = \"C4\", alpha = .8, \n",
    "                   ls = \"--\",label=r\"Ideal clustering = \"+str(criteria[i].index(min(criteria[i]))+1) )\n",
    "\n",
    "        ax[i].scatter(range(1, dim+1), criteria[i]/max(criteria[i]), \n",
    "                     marker = \"h\", s = 20,c=\"C4\",label=label[i]+\" value\", zorder=2)\n",
    "        \n",
    "        ax[i].set_xlabel(r'Number of clusters $k$')\n",
    "        ax[i].set_ylabel(r'Normal value')\n",
    "        \n",
    "        ax[i].legend(loc=0)#,edgecolor='black')\n",
    "        ax[i].set_xlim(0, dim+1)\n",
    "        ax[i].set_xticks(np.arange(0, dim+1, step=2))\n",
    "        #ax[i].tick_params()\n",
    "\n",
    "    plt.subplots_adjust(wspace=0.4)\n",
    "    #plt.savefig(\"figures/BIC-AIC.pdf\",bbox_inches='tight')\n",
    "    #return [bic,aic]"
   ]
  },
  {
   "cell_type": "code",
   "execution_count": 9,
   "metadata": {},
   "outputs": [],
   "source": [
    "def clusters_plot2(data, groups, nbins = 60):\n",
    "    \n",
    "    cluster = clustering(data, True)\n",
    "    cluster.GMM(groups)\n",
    "    \n",
    "    a = cluster.r_cm\n",
    "    x = np.linspace(a.min(),a.max(),1000).reshape(-1,1)\n",
    "    \n",
    "    figure, ax = plt.subplots(1, 1); fig.tight_layout()\n",
    "    ax.set(xlim=(x.min(),x.max()))\n",
    "    rcm = ax.hist(a, bins=nbins, density = True, alpha = .5, label = r'$\\log_{10}\\left(\\frac{r_\\mathrm{cm}}{1\\ \\mathrm{AU}}\\right)$')\n",
    "    \n",
    "    for c in range(cluster.n):\n",
    "        g   = ax.plot(x, norm.pdf(x,cluster.gmm.means_[c], np.sqrt(cluster.gmm.covariances_[c]))/2,\n",
    "                     label = \"cluster\"+str(c))#/\\\n",
    "                      #norm.pdf(x,cluster.gmm.means_[c], np.sqrt(cluster.gmm.covariances_[c])).max())\n",
    "    \n",
    "    plt.xlabel(r\"$\\log_{10}\\left(\\frac{r_\\mathrm{cm}}{1\\ \\mathrm{[AU]}}\\right)$\")\n",
    "    plt.ylabel(r\"Counts\")\n",
    "    plt.legend()    "
   ]
  },
  {
   "cell_type": "markdown",
   "metadata": {},
   "source": [
    "### GMM for no-perturbations case "
   ]
  },
  {
   "cell_type": "code",
   "execution_count": 10,
   "metadata": {},
   "outputs": [
    {
     "name": "stdout",
     "output_type": "stream",
     "text": [
      "Ideal number of clusters, BIC = 4\n",
      "Ideal number of clusters, AIC = 4\n"
     ]
    }
   ],
   "source": [
    "k = 20\n",
    "clust_no = clustering(dn[\"com\"], True)\n",
    "clust_no.GMM(k)\n",
    "clust_no.inf_criteria(k)"
   ]
  },
  {
   "cell_type": "code",
   "execution_count": 11,
   "metadata": {},
   "outputs": [],
   "source": [
    "plot_criteria([clust_no.bic,clust_no.aic])"
   ]
  },
  {
   "cell_type": "code",
   "execution_count": 12,
   "metadata": {},
   "outputs": [],
   "source": [
    "a = clusters_plot2(dn[\"com\"],4)"
   ]
  },
  {
   "cell_type": "markdown",
   "metadata": {},
   "source": [
    "### GMM for low perturbations case "
   ]
  },
  {
   "cell_type": "code",
   "execution_count": 13,
   "metadata": {},
   "outputs": [
    {
     "name": "stdout",
     "output_type": "stream",
     "text": [
      "Ideal number of clusters, BIC = 3\n",
      "Ideal number of clusters, AIC = 6\n"
     ]
    }
   ],
   "source": [
    "clust_low = clustering(dl[\"com\"], True)\n",
    "clust_low.GMM(k)\n",
    "clust_low.inf_criteria(k)"
   ]
  },
  {
   "cell_type": "code",
   "execution_count": 14,
   "metadata": {},
   "outputs": [],
   "source": [
    "plot_criteria([clust_low.bic,clust_low.aic])"
   ]
  },
  {
   "cell_type": "code",
   "execution_count": 15,
   "metadata": {},
   "outputs": [],
   "source": [
    "b = clusters_plot2(dl[\"com\"],3)\n",
    "c = clusters_plot2(dl[\"com\"],6)"
   ]
  },
  {
   "cell_type": "markdown",
   "metadata": {},
   "source": [
    "### GMM for high perturbations case "
   ]
  },
  {
   "cell_type": "code",
   "execution_count": 16,
   "metadata": {},
   "outputs": [
    {
     "name": "stdout",
     "output_type": "stream",
     "text": [
      "Ideal number of clusters, BIC = 3\n",
      "Ideal number of clusters, AIC = 6\n"
     ]
    }
   ],
   "source": [
    "clust_high = clustering(dl[\"com\"], True)\n",
    "clust_high.GMM(k)\n",
    "clust_high.inf_criteria(k)"
   ]
  },
  {
   "cell_type": "code",
   "execution_count": 17,
   "metadata": {},
   "outputs": [],
   "source": [
    "plot_criteria([clust_high.bic,clust_low.aic])"
   ]
  },
  {
   "cell_type": "code",
   "execution_count": 18,
   "metadata": {},
   "outputs": [],
   "source": [
    "d = clusters_plot2(dh[\"com\"],3)\n",
    "e = clusters_plot2(dh[\"com\"],6)"
   ]
  },
  {
   "cell_type": "markdown",
   "metadata": {},
   "source": [
    "### Sensitivity"
   ]
  },
  {
   "cell_type": "code",
   "execution_count": 19,
   "metadata": {},
   "outputs": [],
   "source": [
    "class draw(clustering):\n",
    "    \n",
    "    def __init__(self, data, log):\n",
    "        clustering.__init__(self, data, log)\n",
    "    \n",
    "    def draws(self):\n",
    "        \n",
    "        self.Draws = [] # a 1000 synthetic r_cm for each system\n",
    "        self.mus, self.ass, self.au = [], [], []\n",
    "        for sistem in self.p_system.groups.keys():\n",
    "            \n",
    "            self.SystemA_i = data[data.star_name == sistem]  \n",
    "            #print(self.SystemA_i.star_name.values) \n",
    "            \n",
    "            Mass_System, Mass_Axe  = [],[]#, np.zeros(1000)\n",
    "            \n",
    "            mu_m, mu_a = [],[]\n",
    "            sigma_m, sigma_a = [],[]\n",
    "            \n",
    "            \n",
    "            for planet in range(len(self.SystemA_i)):\n",
    "                    \n",
    "                mu_m = self.SystemA_i.mass.values[planet]\n",
    "                sigma_m = self.SystemA_i.mass_error_min.values[planet]\n",
    "                \n",
    "                mu_a    = self.SystemA_i.semi_major_axis.values[planet]\n",
    "                sigma_a = self.SystemA_i.semi_major_axis_error_min.values[planet]\n",
    "                \n",
    "                lower_m = 0\n",
    "                upper_m = mu_m+3*sigma_m \n",
    "                \n",
    "                lower_a = 0 \n",
    "                upper_a = mu_a+3*sigma_a\n",
    "                \n",
    "                a_m = (lower_m - mu_m)/sigma_m\n",
    "                b_m = (upper_m - mu_m)/sigma_m\n",
    "                \n",
    "                a_a = (lower_a - mu_a)/sigma_a #valores muy raros\n",
    "                b_a = (upper_a - mu_a)/sigma_a\n",
    "            \n",
    "                masses = truncnorm.rvs(a_m, b_m, scale=sigma_m, loc=mu_m, size=1000)\n",
    "                axes   = truncnorm.rvs(a_a, b_a, scale=sigma_a, loc=mu_a, size=1000)\n",
    "            \n",
    "                Mass_Axe.append(masses*axes)\n",
    "                Mass_System.append(masses)\n",
    "\n",
    "            M_A = np.array(Mass_Axe).sum(axis=0)\n",
    "            M   = np.array(Mass_System).sum(axis = 0)\n",
    "        \n",
    "            self.Draws.append(M_A/M)\n",
    "        \n",
    "    def fraction_ch(self, drawss, r = 15):\n",
    "        r = 10\n",
    "        frac=[]\n",
    "        #self.draws()\n",
    "        self.inf_criteria(r)\n",
    "        self.GMM(self.ideal)\n",
    "        \n",
    "        if self.log == True:  \n",
    "            Dr = np.log10(drawss)\n",
    "            \n",
    "        for k in range(len(Dr)):\n",
    "            Draw_i=Dr[k][:,np.newaxis]\n",
    "            frac+=[(self.cluster_label[k]!=self.gmm.predict(Draw_i)).sum()/len(Dr)] # AA es el elemento i de draws (que debe ser un array de 1000 elementos)\n",
    "            p = sum(frac)/len(frac)*100\n",
    "            \n",
    "        return print(\"the change is \"+str('%.2f' % p)+r\"\\%\")\n"
   ]
  },
  {
   "cell_type": "code",
   "execution_count": null,
   "metadata": {},
   "outputs": [],
   "source": []
  },
  {
   "cell_type": "code",
   "execution_count": null,
   "metadata": {},
   "outputs": [],
   "source": []
  },
  {
   "cell_type": "code",
   "execution_count": null,
   "metadata": {},
   "outputs": [],
   "source": []
  },
  {
   "cell_type": "code",
   "execution_count": null,
   "metadata": {},
   "outputs": [],
   "source": []
  },
  {
   "cell_type": "code",
   "execution_count": null,
   "metadata": {},
   "outputs": [],
   "source": []
  },
  {
   "cell_type": "code",
   "execution_count": null,
   "metadata": {},
   "outputs": [],
   "source": []
  },
  {
   "cell_type": "code",
   "execution_count": null,
   "metadata": {},
   "outputs": [],
   "source": []
  },
  {
   "cell_type": "code",
   "execution_count": null,
   "metadata": {},
   "outputs": [],
   "source": []
  }
 ],
 "metadata": {
  "kernelspec": {
   "display_name": "Python 3",
   "language": "python",
   "name": "python3"
  },
  "language_info": {
   "codemirror_mode": {
    "name": "ipython",
    "version": 3
   },
   "file_extension": ".py",
   "mimetype": "text/x-python",
   "name": "python",
   "nbconvert_exporter": "python",
   "pygments_lexer": "ipython3",
   "version": "3.7.10"
  }
 },
 "nbformat": 4,
 "nbformat_minor": 5
}
